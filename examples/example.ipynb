{
 "cells": [
  {
   "cell_type": "code",
   "execution_count": 1,
   "id": "57695666",
   "metadata": {},
   "outputs": [],
   "source": [
    "import pandas as pd\n",
    "import numpy as np"
   ]
  },
  {
   "cell_type": "code",
   "execution_count": 2,
   "id": "e930828f",
   "metadata": {},
   "outputs": [],
   "source": [
    "from araxia.network import MLP\n",
    "from araxia.preprocessing import create_lagged_dataset\n",
    "from araxia.train import normalize_features, normalize_targets"
   ]
  },
  {
   "cell_type": "code",
   "execution_count": 3,
   "id": "899348fb",
   "metadata": {},
   "outputs": [],
   "source": [
    "df = pd.read_csv('sales.csv')"
   ]
  },
  {
   "cell_type": "code",
   "execution_count": 4,
   "id": "1d123b11",
   "metadata": {},
   "outputs": [
    {
     "data": {
      "text/html": [
       "<div>\n",
       "<style scoped>\n",
       "    .dataframe tbody tr th:only-of-type {\n",
       "        vertical-align: middle;\n",
       "    }\n",
       "\n",
       "    .dataframe tbody tr th {\n",
       "        vertical-align: top;\n",
       "    }\n",
       "\n",
       "    .dataframe thead th {\n",
       "        text-align: right;\n",
       "    }\n",
       "</style>\n",
       "<table border=\"1\" class=\"dataframe\">\n",
       "  <thead>\n",
       "    <tr style=\"text-align: right;\">\n",
       "      <th></th>\n",
       "      <th>sale_date</th>\n",
       "      <th>sales</th>\n",
       "    </tr>\n",
       "  </thead>\n",
       "  <tbody>\n",
       "    <tr>\n",
       "      <th>0</th>\n",
       "      <td>2024-02-22</td>\n",
       "      <td>26794.41</td>\n",
       "    </tr>\n",
       "    <tr>\n",
       "      <th>1</th>\n",
       "      <td>2024-02-23</td>\n",
       "      <td>32036.08</td>\n",
       "    </tr>\n",
       "    <tr>\n",
       "      <th>2</th>\n",
       "      <td>2024-02-24</td>\n",
       "      <td>27247.97</td>\n",
       "    </tr>\n",
       "    <tr>\n",
       "      <th>3</th>\n",
       "      <td>2024-02-25</td>\n",
       "      <td>32901.66</td>\n",
       "    </tr>\n",
       "    <tr>\n",
       "      <th>4</th>\n",
       "      <td>2024-02-26</td>\n",
       "      <td>24476.21</td>\n",
       "    </tr>\n",
       "  </tbody>\n",
       "</table>\n",
       "</div>"
      ],
      "text/plain": [
       "    sale_date     sales\n",
       "0  2024-02-22  26794.41\n",
       "1  2024-02-23  32036.08\n",
       "2  2024-02-24  27247.97\n",
       "3  2024-02-25  32901.66\n",
       "4  2024-02-26  24476.21"
      ]
     },
     "execution_count": 4,
     "metadata": {},
     "output_type": "execute_result"
    }
   ],
   "source": [
    "df.head()"
   ]
  },
  {
   "cell_type": "code",
   "execution_count": 5,
   "id": "6e166a0d",
   "metadata": {},
   "outputs": [
    {
     "name": "stdout",
     "output_type": "stream",
     "text": [
      "<class 'pandas.core.frame.DataFrame'>\n",
      "RangeIndex: 484 entries, 0 to 483\n",
      "Data columns (total 2 columns):\n",
      " #   Column     Non-Null Count  Dtype  \n",
      "---  ------     --------------  -----  \n",
      " 0   sale_date  484 non-null    object \n",
      " 1   sales      484 non-null    float64\n",
      "dtypes: float64(1), object(1)\n",
      "memory usage: 7.7+ KB\n"
     ]
    }
   ],
   "source": [
    "df.info()"
   ]
  },
  {
   "cell_type": "code",
   "execution_count": 6,
   "id": "e2f13346",
   "metadata": {},
   "outputs": [],
   "source": [
    "X_raw, y_raw = create_lagged_dataset(df, 'sale_date', 'sales', lag=5)"
   ]
  },
  {
   "cell_type": "code",
   "execution_count": null,
   "id": "3ddf7212",
   "metadata": {},
   "outputs": [],
   "source": [
    "#X_mean = X_raw.mean(axis=0)"
   ]
  },
  {
   "cell_type": "code",
   "execution_count": 10,
   "id": "e738ed5f",
   "metadata": {},
   "outputs": [],
   "source": [
    "X_norm, X_mean, X_std = normalize_features(X_raw)"
   ]
  },
  {
   "cell_type": "code",
   "execution_count": 11,
   "id": "6dba1596",
   "metadata": {},
   "outputs": [],
   "source": [
    "y_norm = normalize_targets(y_raw)"
   ]
  },
  {
   "cell_type": "code",
   "execution_count": 12,
   "id": "abcd4579",
   "metadata": {},
   "outputs": [],
   "source": [
    "#X_norm = [np.array(xi).flatten() for xi in X_norm]\n",
    "y_norm = [float(yi) for yi in y_norm]"
   ]
  },
  {
   "cell_type": "code",
   "execution_count": 13,
   "id": "2f9c2da7",
   "metadata": {},
   "outputs": [
    {
     "name": "stdout",
     "output_type": "stream",
     "text": [
      "epoch: 0, | loss: 0.023594\n",
      "epoch: 10, | loss: 0.008414\n",
      "epoch: 20, | loss: 0.008302\n",
      "epoch: 30, | loss: 0.008253\n",
      "epoch: 40, | loss: 0.008231\n",
      "epoch: 50, | loss: 0.008221\n",
      "epoch: 60, | loss: 0.008216\n",
      "epoch: 70, | loss: 0.008214\n",
      "epoch: 80, | loss: 0.008213\n",
      "epoch: 90, | loss: 0.008212\n",
      "epoch: 100, | loss: 0.008211\n",
      "epoch: 110, | loss: 0.008211\n",
      "epoch: 120, | loss: 0.008211\n",
      "epoch: 130, | loss: 0.008211\n",
      "epoch: 140, | loss: 0.008211\n",
      "epoch: 150, | loss: 0.008211\n",
      "epoch: 160, | loss: 0.008211\n",
      "epoch: 170, | loss: 0.008211\n",
      "epoch: 180, | loss: 0.008211\n",
      "epoch: 190, | loss: 0.008211\n",
      "epoch: 200, | loss: 0.008211\n",
      "epoch: 210, | loss: 0.008211\n",
      "epoch: 220, | loss: 0.008211\n",
      "epoch: 230, | loss: 0.008211\n",
      "epoch: 240, | loss: 0.008211\n",
      "epoch: 250, | loss: 0.008211\n",
      "epoch: 260, | loss: 0.008211\n",
      "epoch: 270, | loss: 0.008211\n",
      "epoch: 280, | loss: 0.008211\n",
      "epoch: 290, | loss: 0.008211\n"
     ]
    }
   ],
   "source": [
    "mlp = MLP(input_size=5, hidden_size=10, learning_rate=0.001)\n",
    "mlp.train(X_norm, y_norm, epochs=300)"
   ]
  },
  {
   "cell_type": "code",
   "execution_count": null,
   "id": "d89029e6",
   "metadata": {},
   "outputs": [],
   "source": []
  }
 ],
 "metadata": {
  "kernelspec": {
   "display_name": "env",
   "language": "python",
   "name": "python3"
  },
  "language_info": {
   "codemirror_mode": {
    "name": "ipython",
    "version": 3
   },
   "file_extension": ".py",
   "mimetype": "text/x-python",
   "name": "python",
   "nbconvert_exporter": "python",
   "pygments_lexer": "ipython3",
   "version": "3.11.4"
  }
 },
 "nbformat": 4,
 "nbformat_minor": 5
}
