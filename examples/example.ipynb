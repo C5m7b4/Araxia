{
 "cells": [
  {
   "cell_type": "code",
   "execution_count": 1,
   "id": "57695666",
   "metadata": {},
   "outputs": [],
   "source": [
    "import pandas as pd\n",
    "import numpy as np"
   ]
  },
  {
   "cell_type": "code",
   "execution_count": 2,
   "id": "e930828f",
   "metadata": {},
   "outputs": [],
   "source": [
    "from araxia.network import MLP\n",
    "from araxia.preprocessing import create_lagged_dataset\n",
    "from araxia.train import normalize_features, normalize_targets, NormalizeFeatures\n",
    "from araxia.utils import train_test_split"
   ]
  },
  {
   "cell_type": "code",
   "execution_count": 3,
   "id": "fd209d9e",
   "metadata": {},
   "outputs": [],
   "source": [
    "from atrax import Atrax as tx"
   ]
  },
  {
   "cell_type": "code",
   "execution_count": 4,
   "id": "899348fb",
   "metadata": {},
   "outputs": [],
   "source": [
    "df = pd.read_csv('sales.csv')"
   ]
  },
  {
   "cell_type": "code",
   "execution_count": 5,
   "id": "e2f13346",
   "metadata": {},
   "outputs": [],
   "source": [
    "X_raw, y_raw = create_lagged_dataset(df, 'sale_date', 'sales', lag=5)"
   ]
  },
  {
   "cell_type": "code",
   "execution_count": 6,
   "id": "54fc78f9",
   "metadata": {},
   "outputs": [],
   "source": [
    "nf = NormalizeFeatures(X_raw)\n",
    "X_norm = nf.normalize()"
   ]
  },
  {
   "cell_type": "code",
   "execution_count": 7,
   "id": "f7e842d0",
   "metadata": {},
   "outputs": [
    {
     "data": {
      "text/plain": [
       "(479, 9)"
      ]
     },
     "execution_count": 7,
     "metadata": {},
     "output_type": "execute_result"
    }
   ],
   "source": [
    "X_norm.shape"
   ]
  },
  {
   "cell_type": "code",
   "execution_count": 13,
   "id": "e738ed5f",
   "metadata": {},
   "outputs": [],
   "source": [
    "#X_norm, X_mean, X_std = normalize_features(X_raw)"
   ]
  },
  {
   "cell_type": "code",
   "execution_count": 8,
   "id": "6dba1596",
   "metadata": {},
   "outputs": [],
   "source": [
    "y_norm = normalize_targets(y_raw)\n",
    "#"
   ]
  },
  {
   "cell_type": "code",
   "execution_count": 9,
   "id": "87800698",
   "metadata": {},
   "outputs": [
    {
     "data": {
      "text/plain": [
       "479"
      ]
     },
     "execution_count": 9,
     "metadata": {},
     "output_type": "execute_result"
    }
   ],
   "source": [
    "len(y_norm)"
   ]
  },
  {
   "cell_type": "code",
   "execution_count": 11,
   "id": "6c39a8cf",
   "metadata": {},
   "outputs": [
    {
     "ename": "AttributeError",
     "evalue": "'numpy.ndarray' object has no attribute 'iloc'",
     "output_type": "error",
     "traceback": [
      "\u001b[31m---------------------------------------------------------------------------\u001b[39m",
      "\u001b[31mAttributeError\u001b[39m                            Traceback (most recent call last)",
      "\u001b[36mCell\u001b[39m\u001b[36m \u001b[39m\u001b[32mIn[11]\u001b[39m\u001b[32m, line 1\u001b[39m\n\u001b[32m----> \u001b[39m\u001b[32m1\u001b[39m X_train, y_train, X_test, y_test = \u001b[43mtrain_test_split\u001b[49m\u001b[43m(\u001b[49m\u001b[43mX_norm\u001b[49m\u001b[43m,\u001b[49m\u001b[43m \u001b[49m\u001b[43my_norm\u001b[49m\u001b[43m,\u001b[49m\u001b[43m \u001b[49m\u001b[43mtest_size\u001b[49m\u001b[43m=\u001b[49m\u001b[32;43m0.2\u001b[39;49m\u001b[43m)\u001b[49m\n",
      "\u001b[36mFile \u001b[39m\u001b[32mI:\\araxia-lib\\araxia\\utils.py:29\u001b[39m, in \u001b[36mtrain_test_split\u001b[39m\u001b[34m(X, y, test_size)\u001b[39m\n\u001b[32m     27\u001b[39m n = X.shape[\u001b[32m0\u001b[39m]\n\u001b[32m     28\u001b[39m stop = \u001b[38;5;28mint\u001b[39m(n - (n * test_size))\n\u001b[32m---> \u001b[39m\u001b[32m29\u001b[39m X_train = \u001b[43mX\u001b[49m\u001b[43m.\u001b[49m\u001b[43miloc\u001b[49m[\u001b[32m0\u001b[39m:stop, :-\u001b[32m1\u001b[39m]\n\u001b[32m     30\u001b[39m y_train = y.iloc[\u001b[32m0\u001b[39m:stop, -\u001b[32m1\u001b[39m:]\n\u001b[32m     32\u001b[39m X_test = X.iloc[stop:, :-\u001b[32m1\u001b[39m]\n",
      "\u001b[31mAttributeError\u001b[39m: 'numpy.ndarray' object has no attribute 'iloc'"
     ]
    }
   ],
   "source": [
    "X_train, y_train, X_test, y_test = train_test_split(X_norm, y_norm, test_size=0.2)"
   ]
  },
  {
   "cell_type": "code",
   "execution_count": 7,
   "id": "2f9c2da7",
   "metadata": {},
   "outputs": [
    {
     "name": "stdout",
     "output_type": "stream",
     "text": [
      "epoch: 0, | loss: 0.077127\n",
      "epoch: 10, | loss: 0.008398\n",
      "epoch: 20, | loss: 0.008265\n",
      "epoch: 30, | loss: 0.008223\n",
      "epoch: 40, | loss: 0.008211\n",
      "epoch: 50, | loss: 0.008208\n",
      "epoch: 60, | loss: 0.008208\n",
      "epoch: 70, | loss: 0.008209\n",
      "epoch: 80, | loss: 0.008209\n",
      "epoch: 90, | loss: 0.008209\n",
      "epoch: 100, | loss: 0.008210\n",
      "epoch: 110, | loss: 0.008210\n",
      "epoch: 120, | loss: 0.008210\n",
      "epoch: 130, | loss: 0.008210\n",
      "epoch: 140, | loss: 0.008210\n",
      "epoch: 150, | loss: 0.008210\n",
      "epoch: 160, | loss: 0.008210\n",
      "epoch: 170, | loss: 0.008210\n",
      "epoch: 180, | loss: 0.008210\n",
      "epoch: 190, | loss: 0.008210\n",
      "epoch: 200, | loss: 0.008210\n",
      "epoch: 210, | loss: 0.008210\n",
      "epoch: 220, | loss: 0.008210\n",
      "epoch: 230, | loss: 0.008210\n",
      "epoch: 240, | loss: 0.008210\n",
      "epoch: 250, | loss: 0.008210\n",
      "epoch: 260, | loss: 0.008210\n",
      "epoch: 270, | loss: 0.008210\n",
      "epoch: 280, | loss: 0.008210\n",
      "epoch: 290, | loss: 0.008210\n"
     ]
    }
   ],
   "source": [
    "mlp = MLP(input_size=5, hidden_size=10, learning_rate=0.001)\n",
    "mlp.train(X_norm, y_norm, epochs=300)"
   ]
  },
  {
   "cell_type": "markdown",
   "id": "074f065a",
   "metadata": {},
   "source": [
    "### forecasting"
   ]
  },
  {
   "cell_type": "code",
   "execution_count": null,
   "id": "4dffe076",
   "metadata": {},
   "outputs": [],
   "source": [
    "future_steps = 10\n",
    "X_future "
   ]
  },
  {
   "cell_type": "code",
   "execution_count": null,
   "id": "514a3c84",
   "metadata": {},
   "outputs": [],
   "source": []
  },
  {
   "cell_type": "code",
   "execution_count": null,
   "id": "b101dc71",
   "metadata": {},
   "outputs": [],
   "source": []
  },
  {
   "cell_type": "code",
   "execution_count": null,
   "id": "ecc4d66c",
   "metadata": {},
   "outputs": [],
   "source": []
  },
  {
   "cell_type": "code",
   "execution_count": null,
   "id": "3f5a0e69",
   "metadata": {},
   "outputs": [],
   "source": []
  },
  {
   "cell_type": "code",
   "execution_count": 8,
   "id": "d89029e6",
   "metadata": {},
   "outputs": [],
   "source": [
    "from datetime import timedelta\n",
    "last_date = df['sale_date'].max()"
   ]
  },
  {
   "cell_type": "code",
   "execution_count": 9,
   "id": "d77f5454",
   "metadata": {},
   "outputs": [],
   "source": [
    "future_dates = [last_date + timedelta(days=i) for i in range(1, 11)]"
   ]
  },
  {
   "cell_type": "code",
   "execution_count": 10,
   "id": "21865c1e",
   "metadata": {},
   "outputs": [
    {
     "data": {
      "text/plain": [
       "[Timestamp('2025-06-22 00:00:00'),\n",
       " Timestamp('2025-06-23 00:00:00'),\n",
       " Timestamp('2025-06-24 00:00:00'),\n",
       " Timestamp('2025-06-25 00:00:00'),\n",
       " Timestamp('2025-06-26 00:00:00'),\n",
       " Timestamp('2025-06-27 00:00:00'),\n",
       " Timestamp('2025-06-28 00:00:00'),\n",
       " Timestamp('2025-06-29 00:00:00'),\n",
       " Timestamp('2025-06-30 00:00:00'),\n",
       " Timestamp('2025-07-01 00:00:00')]"
      ]
     },
     "execution_count": 10,
     "metadata": {},
     "output_type": "execute_result"
    }
   ],
   "source": [
    "future_dates"
   ]
  },
  {
   "cell_type": "markdown",
   "id": "35f9bd78",
   "metadata": {},
   "source": [
    "### experiment"
   ]
  },
  {
   "cell_type": "code",
   "execution_count": 32,
   "id": "79891574",
   "metadata": {},
   "outputs": [],
   "source": [
    "ds_test = tx.DataSet([\n",
    "    {\n",
    "        'date': '1/1/2025',\n",
    "        'feature_1': 'a',\n",
    "        'y': 0\n",
    "    },\n",
    "    {\n",
    "        'date': '1/2/2025',\n",
    "        'feature_1': 'b',\n",
    "        'y': 1\n",
    "    },\n",
    "    {\n",
    "        'date': '1/3/2025',\n",
    "        'feature_1': 'c',\n",
    "        'y': 2\n",
    "    },\n",
    "    {\n",
    "        'date': '1/4/2025',\n",
    "        'feature_1': 'd',\n",
    "        'y': 3\n",
    "    },\n",
    "    {\n",
    "        'date': '1/5/2025',\n",
    "        'feature_1': 'e',\n",
    "        'y': 4\n",
    "    },\n",
    "    {\n",
    "        'date': '1/6/2025',\n",
    "        'feature_1': 'f',\n",
    "        'y': 5\n",
    "    },\n",
    "    {\n",
    "        'date': '1/7/2025',\n",
    "        'feature_1': 'g',\n",
    "        'y': 6\n",
    "    },\n",
    "    {\n",
    "        'date': '1/8/2025',\n",
    "        'feature_1': 'h',\n",
    "        'y': 7\n",
    "    },\n",
    "    {\n",
    "        'date': '1/9/2025',\n",
    "        'feature_1': 'i',\n",
    "        'y': 8\n",
    "    },\n",
    "    {\n",
    "        'date': '1/10/2025',\n",
    "        'feature_1': 'j',\n",
    "        'y': 9\n",
    "    }\n",
    "])"
   ]
  },
  {
   "cell_type": "code",
   "execution_count": 22,
   "id": "a08a3d42",
   "metadata": {},
   "outputs": [
    {
     "data": {
      "text/plain": [
       "(10, 3)"
      ]
     },
     "execution_count": 22,
     "metadata": {},
     "output_type": "execute_result"
    }
   ],
   "source": [
    "ds_test.shape()"
   ]
  },
  {
   "cell_type": "code",
   "execution_count": 23,
   "id": "423978dc",
   "metadata": {},
   "outputs": [
    {
     "data": {
      "text/html": [
       "\n",
       "        <table>\n",
       "            <thead><tr><th>date</th><th>feature_1</th><th>y</th></tr></thead>\n",
       "            <tbody><tr><td>1/1/2025</td><td>a</td><td>0</td></tr><tr><td>1/2/2025</td><td>b</td><td>1</td></tr><tr><td>1/3/2025</td><td>c</td><td>2</td></tr><tr><td>1/4/2025</td><td>d</td><td>3</td></tr><tr><td>1/5/2025</td><td>e</td><td>4</td></tr><tr><td>1/6/2025</td><td>f</td><td>5</td></tr><tr><td>1/7/2025</td><td>g</td><td>6</td></tr><tr><td>1/8/2025</td><td>h</td><td>7</td></tr><tr><td>1/9/2025</td><td>i</td><td>8</td></tr><tr><td>1/10/2025</td><td>j</td><td>9</td></tr></tbody>\n",
       "        </table>\n",
       "        "
      ],
      "text/plain": [
       "date, feature_1, y\n",
       "1/1/2025, a, 0\n",
       "1/2/2025, b, 1\n",
       "1/3/2025, c, 2\n",
       "1/4/2025, d, 3\n",
       "1/5/2025, e, 4\n",
       "1/6/2025, f, 5\n",
       "1/7/2025, g, 6\n",
       "1/8/2025, h, 7\n",
       "1/9/2025, i, 8\n",
       "1/10/2025, j, 9"
      ]
     },
     "execution_count": 23,
     "metadata": {},
     "output_type": "execute_result"
    }
   ],
   "source": [
    "ds_test"
   ]
  },
  {
   "cell_type": "code",
   "execution_count": 24,
   "id": "0fe6dd56",
   "metadata": {},
   "outputs": [
    {
     "data": {
      "text/html": [
       "\n",
       "        <table>\n",
       "            <thead><tr><th>date</th><th>feature_1</th><th>y</th></tr></thead>\n",
       "            <tbody><tr><td>1/1/2025</td><td>a</td><td>0</td></tr><tr><td>1/2/2025</td><td>b</td><td>1</td></tr><tr><td>1/3/2025</td><td>c</td><td>2</td></tr><tr><td>1/4/2025</td><td>d</td><td>3</td></tr><tr><td>1/5/2025</td><td>e</td><td>4</td></tr><tr><td>1/6/2025</td><td>f</td><td>5</td></tr><tr><td>1/7/2025</td><td>g</td><td>6</td></tr><tr><td>1/8/2025</td><td>h</td><td>7</td></tr><tr><td>1/9/2025</td><td>i</td><td>8</td></tr><tr><td>1/10/2025</td><td>j</td><td>9</td></tr></tbody>\n",
       "        </table>\n",
       "        "
      ],
      "text/plain": [
       "date, feature_1, y\n",
       "1/1/2025, a, 0\n",
       "1/2/2025, b, 1\n",
       "1/3/2025, c, 2\n",
       "1/4/2025, d, 3\n",
       "1/5/2025, e, 4\n",
       "1/6/2025, f, 5\n",
       "1/7/2025, g, 6\n",
       "1/8/2025, h, 7\n",
       "1/9/2025, i, 8\n",
       "1/10/2025, j, 9"
      ]
     },
     "execution_count": 24,
     "metadata": {},
     "output_type": "execute_result"
    }
   ],
   "source": [
    "ds_test.iloc[:,:]"
   ]
  },
  {
   "cell_type": "code",
   "execution_count": 25,
   "id": "bbf09e8d",
   "metadata": {},
   "outputs": [
    {
     "data": {
      "text/html": [
       "\n",
       "        <table>\n",
       "            <thead><tr><th>date</th><th>feature_1</th><th>y</th></tr></thead>\n",
       "            <tbody><tr><td>1/10/2025</td><td>j</td><td>9</td></tr></tbody>\n",
       "        </table>\n",
       "        "
      ],
      "text/plain": [
       "date, feature_1, y\n",
       "1/10/2025, j, 9"
      ]
     },
     "execution_count": 25,
     "metadata": {},
     "output_type": "execute_result"
    }
   ],
   "source": [
    "ds_test.iloc[-1:, :]"
   ]
  },
  {
   "cell_type": "code",
   "execution_count": 28,
   "id": "0f233ac8",
   "metadata": {},
   "outputs": [
    {
     "name": "stdout",
     "output_type": "stream",
     "text": [
      "date, feature_1, y\n",
      "1/10/2025, j, 9\n"
     ]
    }
   ],
   "source": [
    "X = ds_test.iloc[-1:, :]\n",
    "print(X)"
   ]
  },
  {
   "cell_type": "code",
   "execution_count": 35,
   "id": "5c53e35f",
   "metadata": {},
   "outputs": [
    {
     "data": {
      "text/plain": [
       "(10, 3)"
      ]
     },
     "execution_count": 35,
     "metadata": {},
     "output_type": "execute_result"
    }
   ],
   "source": [
    "ds_test.shape()"
   ]
  },
  {
   "cell_type": "code",
   "execution_count": null,
   "id": "87fdda6f",
   "metadata": {},
   "outputs": [],
   "source": [
    "\n"
   ]
  },
  {
   "cell_type": "code",
   "execution_count": 59,
   "id": "2d571728",
   "metadata": {},
   "outputs": [
    {
     "name": "stdout",
     "output_type": "stream",
     "text": [
      "X_train: date, feature_1\n",
      "1/1/2025, a\n",
      "1/2/2025, b\n",
      "1/3/2025, c\n",
      "1/4/2025, d\n",
      "1/5/2025, e\n",
      "1/6/2025, f\n",
      "1/7/2025, g\n",
      "1/8/2025, h\n",
      "y_train: y\n",
      "0\n",
      "1\n",
      "2\n",
      "3\n",
      "4\n",
      "5\n",
      "6\n",
      "7\n",
      "--------\n",
      "X_test: date, feature_1\n",
      "1/9/2025, i\n",
      "1/10/2025, j\n",
      "y_test: y\n",
      "8\n",
      "9\n"
     ]
    }
   ],
   "source": [
    "X_train, y_train, X_test, y_test = train_test_split(ds_test, test_size=0.2)\n",
    "print(f\"X_train: {X_train}\")\n",
    "print(f\"y_train: {y_train}\")\n",
    "print('--------')\n",
    "print(f\"X_test: {X_test}\")\n",
    "print(f\"y_test: {y_test}\")\n"
   ]
  },
  {
   "cell_type": "code",
   "execution_count": null,
   "id": "0a9cf815",
   "metadata": {},
   "outputs": [],
   "source": []
  }
 ],
 "metadata": {
  "kernelspec": {
   "display_name": "env",
   "language": "python",
   "name": "python3"
  },
  "language_info": {
   "codemirror_mode": {
    "name": "ipython",
    "version": 3
   },
   "file_extension": ".py",
   "mimetype": "text/x-python",
   "name": "python",
   "nbconvert_exporter": "python",
   "pygments_lexer": "ipython3",
   "version": "3.11.4"
  }
 },
 "nbformat": 4,
 "nbformat_minor": 5
}
